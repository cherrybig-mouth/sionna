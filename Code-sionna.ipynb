{
 "cells": [
  {
   "cell_type": "code",
   "execution_count": null,
   "id": "initial_id",
   "metadata": {
    "collapsed": true
   },
   "outputs": [],
   "source": [
    "import os # Configure which GPU\n",
    "if os.getenv(\"CUDA_VISIBLE_DEVICES\") is None:\n",
    "    gpu_num = 0 # Use \"\" to use the CPU\n",
    "    os.environ[\"CUDA_VISIBLE_DEVICES\"] = f\"{gpu_num}\"\n",
    "os.environ['TF_CPP_MIN_LOG_LEVEL'] = '3'"
   ]
  },
  {
   "metadata": {},
   "cell_type": "code",
   "outputs": [],
   "execution_count": null,
   "source": [
    "import tensorflow as tf\n",
    "gpus = tf.config.list_physical_devices('GPU')\n",
    "if gpus:\n",
    "    try:\n",
    "        tf.config.experimental.set_memory_growth(gpus[0], True)\n",
    "    except RuntimeError as e:\n",
    "        print(e)"
   ],
   "id": "af71ea12d03692fc"
  },
  {
   "metadata": {},
   "cell_type": "code",
   "outputs": [],
   "execution_count": null,
   "source": [
    "import os # Configure which GPU\n",
    "if os.getenv(\"CUDA_VISIBLE_DEVICES\") is None:\n",
    "    gpu_num = 0 # Use \"\" to use the CPU\n",
    "    os.environ[\"CUDA_VISIBLE_DEVICES\"] = f\"{gpu_num}\"\n",
    "os.environ['TF_CPP_MIN_LOG_LEVEL'] = '3'\n",
    "\n",
    "# Import Sionna\n",
    "try:\n",
    "    import sionna\n",
    "except ImportError as e:\n",
    "    # Install Sionna if package is not already installed\n",
    "    import os\n",
    "    os.system(\"pip install sionna\")\n",
    "    import sionna\n",
    "\n",
    "# Configure the notebook to use only a single GPU and allocate only as much memory as needed\n",
    "# For more details, see https://www.tensorflow.org/guide/gpu\n",
    "import tensorflow as tf\n",
    "gpus = tf.config.list_physical_devices('GPU')\n",
    "if gpus:\n",
    "    try:\n",
    "        tf.config.experimental.set_memory_growth(gpus[0], True)\n",
    "    except RuntimeError as e:\n",
    "        print(e)\n",
    "\n",
    "# Avoid warnings from TensorFlow\n",
    "tf.get_logger().setLevel('ERROR')\n",
    "\n",
    "# Colab does currently not support the latest version of ipython.\n",
    "# Thus, the preview does not work in Colab. However, whenever possible we\n",
    "# strongly recommend to use the scene preview mode.\n",
    "try: # detect if the notebook runs in Colab\n",
    "    import google.colab\n",
    "    no_preview = True # deactivate preview\n",
    "except:\n",
    "    if os.getenv(\"SIONNA_NO_PREVIEW\"):\n",
    "        no_preview = True\n",
    "    else:\n",
    "        no_preview = False\n",
    "\n",
    "resolution = [480,320] # increase for higher quality of renderings\n",
    "\n",
    "# Define magic cell command to skip a cell if needed\n",
    "from IPython.core.magic import register_cell_magic\n",
    "from IPython import get_ipython\n",
    "\n",
    "@register_cell_magic\n",
    "def skip_if(line, cell):\n",
    "    if eval(line):\n",
    "        return\n",
    "    get_ipython().run_cell(cell)\n",
    "\n",
    "# Set random seed for reproducibility\n",
    "sionna.config.seed = 42"
   ],
   "id": "862dba2f59cc0f3d"
  },
  {
   "metadata": {},
   "cell_type": "code",
   "outputs": [],
   "execution_count": null,
   "source": [
    "%matplotlib inline\n",
    "import matplotlib.pyplot as plt\n",
    "import numpy as np\n",
    "import time\n",
    "\n",
    "# Import Sionna RT components\n",
    "from sionna.rt import load_scene, Transmitter, Receiver, PlanarArray, Camera\n",
    "\n",
    "# For link-level simulations\n",
    "from sionna.channel import cir_to_ofdm_channel, subcarrier_frequencies, OFDMChannel, ApplyOFDMChannel, CIRDataset\n",
    "from sionna.nr import PUSCHConfig, PUSCHTransmitter, PUSCHReceiver\n",
    "from sionna.utils import compute_ber, ebnodb2no, PlotBER\n",
    "from sionna.ofdm import KBestDetector, LinearDetector\n",
    "from sionna.mimo import StreamManagement"
   ],
   "id": "2558a9c68e240ea0"
  },
  {
   "metadata": {},
   "cell_type": "code",
   "outputs": [],
   "execution_count": null,
   "source": [
    "# Load integrated scene\n",
    "from sionna.rt import load_scene,Transmitter,Receiver,PlanarArray\n",
    "scene = load_scene(\"filename\") # Try also sionna.rt.scene.etoile"
   ],
   "id": "17ffb48098c8536b"
  },
  {
   "metadata": {},
   "cell_type": "code",
   "outputs": [],
   "execution_count": null,
   "source": [
    "# Configure antenna array for all transmitters\n",
    "scene.tx_array = PlanarArray(num_rows=1,\n",
    "                             num_cols=1,\n",
    "                             vertical_spacing=0.5,\n",
    "                             horizontal_spacing=0.5,\n",
    "                             pattern=\"tr38901\",\n",
    "                             polarization=\"V\")\n",
    "\n",
    "# Configure antenna array for all receivers\n",
    "scene.rx_array = PlanarArray(num_rows=1,\n",
    "                             num_cols=1,\n",
    "                             vertical_spacing=0.5,\n",
    "                             horizontal_spacing=0.5,\n",
    "                             pattern=\"dipole\",\n",
    "                             polarization=\"cross\")\n",
    "\n",
    "# Create transmitter\n",
    "tx = Transmitter(name=\"tx\",\n",
    "                 position=[-5.1018, -6.8207, 1.026055],\n",
    "                 orientation=[0, 0, 0])\n",
    "\n",
    "# Add transmitter instance to scene\n",
    "scene.add(tx)\n",
    "\n",
    "# Create a receiver\n",
    "rx = Receiver(name=\"rx\",\n",
    "              position=[2.8982, -6.8207, 1.026055],\n",
    "              orientation=[0, 0, 180])\n",
    "\n",
    "# Add receiver instance to scene\n",
    "scene.add(rx)\n",
    "\n",
    "tx.look_at(rx) # Transmitter points towards receiver"
   ],
   "id": "c8225dbb535722de"
  },
  {
   "metadata": {},
   "cell_type": "code",
   "outputs": [],
   "execution_count": null,
   "source": [
    "scene.frequency = 2.14e9 # in Hz; implicitly updates RadioMaterials\n",
    "\n",
    "scene.synthetic_array = True # If set to False, ray tracing will be done per antenna element (slower for large arrays)"
   ],
   "id": "41bc9a58b01d857d"
  },
  {
   "metadata": {},
   "cell_type": "code",
   "outputs": [],
   "execution_count": null,
   "source": [
    "# Compute propagation paths\n",
    "paths = scene.compute_paths(max_depth=5,\n",
    "                            num_samples=1e6)  # Number of rays shot into directions defined\n",
    "                                              # by a Fibonacci sphere , too few rays can\n",
    "                                              # lead to missing paths\n",
    "\n",
    "# Visualize paths in the scene\n",
    "if no_preview:\n",
    "    scene.render(\"my_cam\", paths=paths, show_devices=True, show_paths=True, resolution=resolution);"
   ],
   "id": "57cd2a8e9c65c959"
  },
  {
   "metadata": {},
   "cell_type": "code",
   "outputs": [],
   "execution_count": null,
   "source": [
    "%%skip_if no_preview\n",
    "scene.preview(paths, show_devices=True, show_paths=True) # Use the mouse to focus on the visualized paths"
   ],
   "id": "3a16c26da594a036"
  },
  {
   "metadata": {},
   "cell_type": "code",
   "outputs": [],
   "execution_count": null,
   "source": [
    "# Show the coordinates of the starting points of all rays.\n",
    "# These coincide with the location of the transmitters.\n",
    "print(\"Source coordinates: \", paths.sources.numpy())\n",
    "print(\"Transmitter coordinates: \", list(scene.transmitters.values())[0].position.numpy())\n",
    "\n",
    "# Show the coordinates of the endpoints of all rays.\n",
    "# These coincide with the location of the receivers.\n",
    "print(\"Target coordinates: \",paths.targets.numpy())\n",
    "print(\"Receiver coordinates: \",list(scene.receivers.values())[0].position.numpy())\n",
    "\n",
    "# Show the types of all paths:\n",
    "# 0 - LoS, 1 - Reflected, 2 - Diffracted, 3 - Scattered\n",
    "# Note that Diffraction and scattering are turned off by default.\n",
    "print(\"Path types: \", paths.types.numpy())"
   ],
   "id": "b2b0f508d6fa46ac"
  },
  {
   "metadata": {},
   "cell_type": "code",
   "outputs": [],
   "execution_count": null,
   "source": [
    "# Default parameters in the PUSCHConfig\n",
    "subcarrier_spacing = 15e3\n",
    "fft_size = 48"
   ],
   "id": "5d22734861a986aa"
  },
  {
   "metadata": {},
   "cell_type": "code",
   "outputs": [],
   "execution_count": null,
   "source": [
    "# Print shape of channel coefficients before the application of Doppler shifts\n",
    "# The last dimension corresponds to the number of time steps which defaults to one\n",
    "# as there is no mobility\n",
    "print(\"Shape of `a` before applying Doppler shifts: \", paths.a.shape)\n",
    "\n",
    "# Apply Doppler shifts\n",
    "paths.apply_doppler(sampling_frequency=subcarrier_spacing, # Set to 15e3 Hz\n",
    "                    num_time_steps=14, # Number of OFDM symbols\n",
    "                    tx_velocities=[3.,0,0], # We can set additional tx speeds\n",
    "                    rx_velocities=[0,7.,0]) # Or rx speeds\n",
    "\n",
    "print(\"Shape of `a` after applying Doppler shifts: \", paths.a.shape)\n",
    "\n",
    "a, tau = paths.cir()\n",
    "print(\"Shape of tau: \", tau.shape)"
   ],
   "id": "c61d8d6970da14da"
  },
  {
   "metadata": {},
   "cell_type": "code",
   "outputs": [],
   "execution_count": null,
   "source": [
    "t = tau[0,0,0,:]/1e-9 # Scale to ns\n",
    "a_abs = np.abs(a)[0,0,0,0,0,:,0]\n",
    "a_max = np.max(a_abs)\n",
    "# Add dummy entry at start/end for nicer figure\n",
    "t = np.concatenate([(0.,), t, (np.max(t)*1.1,)])\n",
    "a_abs = np.concatenate([(np.nan,), a_abs, (np.nan,)])\n",
    "\n",
    "# And plot the CIR\n",
    "plt.figure()\n",
    "plt.title(\"Channel impulse response realization\")\n",
    "\n",
    "plt.stem(t, a_abs)\n",
    "plt.xlim([0, np.max(t)])\n",
    "plt.ylim([-2e-6, a_max*1.1])\n",
    "plt.xlabel(r\"$\\tau$ [ns]\")\n",
    "plt.ylabel(r\"$|a|$\");"
   ],
   "id": "d2cf6d5321f2477f"
  }
 ],
 "metadata": {
  "kernelspec": {
   "display_name": "Python 3",
   "language": "python",
   "name": "python3"
  },
  "language_info": {
   "codemirror_mode": {
    "name": "ipython",
    "version": 2
   },
   "file_extension": ".py",
   "mimetype": "text/x-python",
   "name": "python",
   "nbconvert_exporter": "python",
   "pygments_lexer": "ipython2",
   "version": "2.7.6"
  }
 },
 "nbformat": 4,
 "nbformat_minor": 5
}
